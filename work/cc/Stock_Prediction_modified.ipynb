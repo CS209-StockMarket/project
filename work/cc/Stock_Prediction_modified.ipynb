{
 "cells": [
  {
   "cell_type": "code",
   "execution_count": 23,
   "metadata": {
    "collapsed": true
   },
   "outputs": [],
   "source": [
    "%matplotlib inline\n",
    "import numpy as np\n",
    "import operator\n",
    "import seaborn as sns\n",
    "import matplotlib.pyplot as plt"
   ]
  },
  {
   "cell_type": "code",
   "execution_count": 3,
   "metadata": {
    "collapsed": false
   },
   "outputs": [],
   "source": [
    "import pandas as pd\n",
    "import datetime\n",
    "df = pd.read_csv(\"change_df.csv\")\n",
    "df_temp = df.copy()\n",
    "df_temp.Date = pd.to_datetime(df_temp.Date)\n",
    "df = df_temp.sort('Date').set_index('Date')\n",
    "predict=datetime.datetime(2015,1,1)\n",
    "df['ud']=df['SP_Adj_Close'].shift(-1)>=df['SP_Adj_Close'].shift(0)\n",
    "df=df[:-1]"
   ]
  },
  {
   "cell_type": "code",
   "execution_count": 4,
   "metadata": {
    "collapsed": true
   },
   "outputs": [],
   "source": [
    "def classifier(X_train, y_train, X_test, y_test, method, parameters):\n",
    "    if method == 'RandomForest':   \n",
    "        return RandomForest(X_train, y_train, X_test, y_test, parameters)\n",
    "    elif method == 'SVM':   \n",
    "        return LinearSVM(X_train, y_train, X_test, y_test, parameters)\n",
    "    elif method == 'LogisticRegression':\n",
    "        return LogRegress(X_train, y_train, X_test, y_test, parameters)\n",
    "    if method == 'KNN':\n",
    "        return KNNClass(X_train, y_train, X_test, y_test, parameters)\n",
    "def CV(X_train, y_train, folds, method, parameter):\n",
    "    k = int(np.floor(float(X_train.shape[0])/folds))\n",
    "    acc = np.zeros(folds-1)\n",
    "    for i in range(2, folds+1):\n",
    "        split = float(i-1)/i\n",
    "        data = X_train[:(k*i)]\n",
    "        output = y_train[:(k*i)]\n",
    "        index = int(np.floor(data.shape[0]*split))\n",
    "        X_tr = data[:index]        \n",
    "        y_tr = output[:index]\n",
    "        X_te = data[(index+1):]\n",
    "        y_te = output[(index+1):]        \n",
    "        acc[i-2] = classifier(X_tr, y_tr, X_te, y_te, method, parameter)[1]\n",
    "    return acc.mean()  \n",
    "def SearchGrid(X_train, y_train, folds, method, grid):\n",
    "    param = grid.keys()\n",
    "    finalGrid = {}\n",
    "    if len(param) == 1:\n",
    "        for value_0 in grid[param[0]]:\n",
    "            parameters = [value_0]\n",
    "            accuracy = CV(X_train, y_train, folds, method, parameters)\n",
    "            finalGrid[accuracy] = parameters\n",
    "        final = sorted(finalGrid.iteritems(), key=operator.itemgetter(0), reverse=True)          \n",
    "        return final[0]\n",
    "    elif len(param) == 2:\n",
    "        for value_0 in grid[param[0]]:\n",
    "            for value_1 in grid[param[1]]:\n",
    "                parameters = [value_0, value_1]\n",
    "                accuracy = CV(X_train, y_train, folds,method, parameters)\n",
    "                finalGrid[accuracy] = parameters\n",
    "        final = sorted(finalGrid.iteritems(), key=operator.itemgetter(0), reverse=True)\n",
    "        return final[0]\n",
    "def cv_optimize(X_train, y_train, X_test, y_test, folds, method, grid):\n",
    "    param=SearchGrid(X_train, y_train, folds, method, grid)[1]\n",
    "    best=classifier(X_train, y_train, X_test, y_test, method, param)\n",
    "    return best[0]"
   ]
  },
  {
   "cell_type": "code",
   "execution_count": 5,
   "metadata": {
    "collapsed": true
   },
   "outputs": [],
   "source": [
    "def mask(df, features,y,start_test):\n",
    "    dataset=df[features+[y]].dropna()\n",
    "    X=dataset[features]\n",
    "    y=dataset[y]\n",
    "    X_train = X[X.index < start_test]\n",
    "    y_train = y[y.index < start_test]    \n",
    "    X_test = X[X.index >= start_test]    \n",
    "    y_test = y[y.index >= start_test]\n",
    "    return X_train, y_train, X_test, y_test "
   ]
  },
  {
   "cell_type": "code",
   "execution_count": 6,
   "metadata": {
    "collapsed": false
   },
   "outputs": [],
   "source": [
    "features=['Australia', 'Frankfurt', 'HongKong', 'London', 'NASDAQ', 'Nikkei', 'Paris', 'Treasury','DJI_YAHOO']\n",
    "X_train, y_train, X_test, y_test=mask(df,features,'ud', predict)"
   ]
  },
  {
   "cell_type": "code",
   "execution_count": 7,
   "metadata": {
    "collapsed": true
   },
   "outputs": [],
   "source": [
    "from sklearn.svm import LinearSVC\n",
    "def LinearSVM(X_train, y_train, X_test, y_test, parameters):\n",
    "    clf=LinearSVC(loss=\"hinge\",C=parameters[0])\n",
    "    clf.fit(X_train, y_train)\n",
    "    accuracy = clf.score(X_test, y_test)\n",
    "    return clf, accuracy"
   ]
  },
  {
   "cell_type": "code",
   "execution_count": 8,
   "metadata": {
    "collapsed": true
   },
   "outputs": [],
   "source": [
    "from sklearn.ensemble import RandomForestClassifier\n",
    "def RandomForest(X_train, y_train, X_test, y_test, parameters):\n",
    "    clf = RandomForestClassifier(n_estimators=parameters[0],n_jobs=-1)\n",
    "    clf.fit(X_train, y_train)\n",
    "    accuracy = clf.score(X_test, y_test)\n",
    "    return clf, accuracy"
   ]
  },
  {
   "cell_type": "code",
   "execution_count": 9,
   "metadata": {
    "collapsed": true
   },
   "outputs": [],
   "source": [
    "from sklearn.linear_model import LogisticRegression\n",
    "def LogRegress(X_train, y_train, X_test, y_test, parameters):\n",
    "    clf = LogisticRegression(C=parameters[0])\n",
    "    clf.fit(X_train,y_train)\n",
    "    accuracy = clf.score(X_test,y_test)\n",
    "    return clf, accuracy"
   ]
  },
  {
   "cell_type": "code",
   "execution_count": 17,
   "metadata": {
    "collapsed": true
   },
   "outputs": [],
   "source": [
    "from sklearn import neighbors\n",
    "def KNNClass(X_train, y_train, X_test, y_test, parameters):\n",
    "    clf = neighbors.KNeighborsClassifier(n_neighbors=parameters[0])\n",
    "    clf.fit(X_train, y_train)\n",
    "    accuracy = clf.score(X_test, y_test)\n",
    "    return clf,accuracy"
   ]
  },
  {
   "cell_type": "code",
   "execution_count": 15,
   "metadata": {
    "collapsed": false
   },
   "outputs": [],
   "source": [
    "clflog=cv_optimize(X_train, y_train, X_test, y_test, 10, 'LogisticRegression', {\"C\": [0.001, 0.01, 0.1, 1.0, 10.0, 100.0]})\n",
    "clfsvm=cv_optimize(X_train, y_train, X_test, y_test, 10, 'SVM', {\"C\": [0.01, 0.1, 1.0, 10.0, 100.0]})\n",
    "clfrm=cv_optimize(X_train, y_train, X_test, y_test, 10, 'RandomForest', {\"n_estimators\": [10,20,50,100]})"
   ]
  },
  {
   "cell_type": "code",
   "execution_count": 18,
   "metadata": {
    "collapsed": false
   },
   "outputs": [],
   "source": [
    "clfknn=cv_optimize(X_train, y_train, X_test, y_test, 10, 'KNN', {\"n_neighbors\": [3,5,7,9,11,13]})"
   ]
  },
  {
   "cell_type": "code",
   "execution_count": 19,
   "metadata": {
    "collapsed": true
   },
   "outputs": [],
   "source": [
    "from sklearn.metrics import roc_curve, auc\n",
    "def make_roc(name, clf, ytest, xtest, ax=None, labe=5, proba=True, skip=0):\n",
    "    initial=False\n",
    "    if not ax:\n",
    "        ax=plt.gca()\n",
    "        initial=True\n",
    "    if proba:\n",
    "        fpr, tpr, thresholds=roc_curve(ytest, clf.predict_proba(xtest)[:,1])\n",
    "    else:\n",
    "        fpr, tpr, thresholds=roc_curve(ytest, clf.decision_function(xtest))\n",
    "    roc_auc = auc(fpr, tpr)\n",
    "    if skip:\n",
    "        l=fpr.shape[0]\n",
    "        ax.plot(fpr[0:l:skip], tpr[0:l:skip], '.-', alpha=0.3, label='ROC curve for %s (area = %0.2f)' % (name, roc_auc))\n",
    "    else:\n",
    "        ax.plot(fpr, tpr, '.-', alpha=0.3, label='ROC curve for %s (area = %0.2f)' % (name, roc_auc))\n",
    "    label_kwargs = {}\n",
    "    label_kwargs['bbox'] = dict(boxstyle='round,pad=0.3', alpha=0.2,)\n",
    "    if labe!=None:\n",
    "        for k in xrange(0, fpr.shape[0],labe):\n",
    "            threshold = str(np.round(thresholds[k], 2))\n",
    "            ax.annotate(threshold, (fpr[k], tpr[k]), **label_kwargs)\n",
    "    if initial:\n",
    "        ax.plot([0, 1], [0, 1], 'k--')\n",
    "        ax.set_xlim([0.0, 1.0])\n",
    "        ax.set_ylim([0.0, 1.05])\n",
    "        ax.set_xlabel('False Positive Rate')\n",
    "        ax.set_ylabel('True Positive Rate')\n",
    "        ax.set_title('ROC')\n",
    "    ax.legend(loc=\"lower right\")\n",
    "    return ax"
   ]
  },
  {
   "cell_type": "code",
   "execution_count": 24,
   "metadata": {
    "collapsed": false
   },
   "outputs": [
    {
     "data": {
      "image/png": "[encoded data removed]",
      "text/plain": [
       "<matplotlib.figure.Figure at 0x1a632470>"
      ]
     },
     "metadata": {},
     "output_type": "display_data"
    }
   ],
   "source": [
    "with sns.hls_palette(8, l=.3, s=.8):\n",
    "    ax=make_roc(\"LinearSVM\",clfsvm, y_test, X_test, labe=100, skip=5,proba=False)\n",
    "    make_roc(\"log\",clflog, y_test, X_test, ax,labe=100, skip=5,proba=True)\n",
    "    make_roc(\"rm\",clfrm,y_test, X_test,ax,labe=100, skip=5,proba=True)\n",
    "    make_roc(\"knn\",clfknn,y_test, X_test,ax,labe=100, skip=5,proba=True)"
   ]
  },
  {
   "cell_type": "code",
   "execution_count": null,
   "metadata": {
    "collapsed": true
   },
   "outputs": [],
   "source": []
  }
 ],
 "metadata": {
  "kernelspec": {
   "display_name": "Python 2",
   "language": "python",
   "name": "python2"
  },
  "language_info": {
   "codemirror_mode": {
    "name": "ipython",
    "version": 2
   },
   "file_extension": ".py",
   "mimetype": "text/x-python",
   "name": "python",
   "nbconvert_exporter": "python",
   "pygments_lexer": "ipython2",
   "version": "2.7.10"
  }
 },
 "nbformat": 4,
 "nbformat_minor": 0
}
