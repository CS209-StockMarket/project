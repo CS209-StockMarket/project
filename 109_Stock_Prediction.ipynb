{
 "cells": [
  {
   "cell_type": "code",
   "execution_count": 70,
   "metadata": {
    "collapsed": true
   },
   "outputs": [],
   "source": [
    "%matplotlib inline\n",
    "import numpy as np\n",
    "import pandas as pd\n",
    "from sklearn.metrics import mean_squared_error, r2_score\n",
    "from sklearn.ensemble import RandomForestRegressor\n",
    "import matplotlib.pyplot as plt\n",
    "#from sklearn.ensemble import BaggingRegressor\n",
    "from sklearn.ensemble import AdaBoostRegressor\n",
    "from sklearn.ensemble import GradientBoostingRegressor\n",
    "from sklearn.neighbors import KNeighborsRegressor\n",
    "from sklearn.ensemble import RandomForestClassifier\n",
    "from sklearn import neighbors\n",
    "from sklearn.ensemble import AdaBoostClassifier\n",
    "from sklearn.ensemble import GradientBoostingClassifier\n",
    "from sklearn.svm import SVR\n",
    "from sklearn.svm import SVC\n",
    "import operator\n",
    "from sklearn.metrics import roc_auc_score\n",
    "import pandas.io.data\n",
    "from sklearn.qda import QDA\n",
    "import datetime"
   ]
  },
  {
   "cell_type": "code",
   "execution_count": 199,
   "metadata": {
    "collapsed": false
   },
   "outputs": [],
   "source": [
    "df = pd.read_csv(\"change_df.csv\")\n",
    "df_temp = df.copy()\n",
    "df_temp.Date = pd.to_datetime(df_temp.Date)\n",
    "df = df_temp.sort('Date').set_index('Date')"
   ]
  },
  {
   "cell_type": "code",
   "execution_count": 200,
   "metadata": {
    "collapsed": false
   },
   "outputs": [],
   "source": [
    "predict=datetime.datetime(2015,1,1)\n",
    "df['ud']=df['SP_Adj_Close'].shift(1)>=df['SP_Adj_Close'].shift(2)\n",
    "df=df[2:]"
   ]
  },
  {
   "cell_type": "code",
   "execution_count": 266,
   "metadata": {
    "collapsed": true
   },
   "outputs": [],
   "source": [
    "def classifier(X_train, y_train, X_test, y_test, method, parameters):\n",
    "    if method == 'RF':   \n",
    "        return RandomForest(X_train, y_train, X_test, y_test, parameters)\n",
    "    elif method == 'LinearSVM':   \n",
    "        return LinearSVM(X_train, y_train, X_test, y_test,parameters)\n",
    "    elif method == 'ADA':\n",
    "        return ADA(X_train, y_train, X_test, y_test, parameters)\n",
    "    elif method == 'GTB': \n",
    "        return GTB(X_train, y_train, X_test, y_test)\n",
    "    elif method == 'QDA': \n",
    "        return QDA(X_train, y_train, X_test, y_test)"
   ]
  },
  {
   "cell_type": "code",
   "execution_count": 206,
   "metadata": {
    "collapsed": true
   },
   "outputs": [],
   "source": [
    "def CV(X_train, y_train, folds, method, parameter):\n",
    "    k = int(np.floor(float(X_train.shape[0])/folds))\n",
    "    acc = np.zeros(folds-1)\n",
    "    for i in range(2, folds+1):\n",
    "        split = float(i-1)/i\n",
    "        data = X_train[:(k*i)]\n",
    "        output = y_train[:(k*i)]\n",
    "        index = int(np.floor(data.shape[0]*split))\n",
    "        X_tr = data[:index]        \n",
    "        y_tr = output[:index]\n",
    "        X_te = data[(index+1):]\n",
    "        y_te = output[(index+1):]        \n",
    "        acc[i-2] = classifier(X_tr, y_tr, X_te, y_te, method, parameter)\n",
    "    return acc.mean()  "
   ]
  },
  {
   "cell_type": "code",
   "execution_count": 222,
   "metadata": {
    "collapsed": true
   },
   "outputs": [],
   "source": [
    "def SearchGrid(X_train, y_train, folds, method, grid):\n",
    "    param = grid.keys()\n",
    "    finalGrid = {}\n",
    "    if len(param) == 1:\n",
    "        for value_0 in grid[param[0]]:\n",
    "            parameters = [value_0]\n",
    "            accuracy = CV(X_train, y_train, folds, method, parameters)\n",
    "            finalGrid[accuracy] = parameters\n",
    "        final = sorted(finalGrid.iteritems(), key=operator.itemgetter(0), reverse=True)          \n",
    "        return final[0]\n",
    "    elif len(param) == 2:\n",
    "        for value_0 in grid[param[0]]:\n",
    "            for value_1 in grid[param[1]]:\n",
    "                parameters = [value_0, value_1]\n",
    "                accuracy = CV(dX_train, y_train, folds,method, parameters)\n",
    "                finalGrid[accuracy] = parameters\n",
    "        final = sorted(finalGrid.iteritems(), key=operator.itemgetter(0), reverse=True)\n",
    "        return final[0]"
   ]
  },
  {
   "cell_type": "code",
   "execution_count": 154,
   "metadata": {
    "collapsed": true
   },
   "outputs": [],
   "source": [
    "def mask(df, features,y,start_test):\n",
    "    dataset=df[features+[y]].dropna()\n",
    "    X=dataset[features]\n",
    "    y=dataset[y]\n",
    "    X_train = X[X.index < start_test]\n",
    "    y_train = y[y.index < start_test]    \n",
    "    X_test = X[X.index >= start_test]    \n",
    "    y_test = y[y.index >= start_test]\n",
    "    return X_train, y_train, X_test, y_test "
   ]
  },
  {
   "cell_type": "code",
   "execution_count": 215,
   "metadata": {
    "collapsed": true
   },
   "outputs": [],
   "source": [
    "features=['Australia', 'Frankfurt', 'HongKong', 'London', 'NASDAQ', 'Nikkei', 'Paris', 'Treasury','DJI_YAHOO']"
   ]
  },
  {
   "cell_type": "code",
   "execution_count": 258,
   "metadata": {
    "collapsed": false
   },
   "outputs": [],
   "source": [
    "X_train, y_train, X_test, y_test=mask(df,features,'ud',predict)"
   ]
  },
  {
   "cell_type": "code",
   "execution_count": 263,
   "metadata": {
    "collapsed": true
   },
   "outputs": [],
   "source": [
    "from sklearn.svm import LinearSVC\n",
    "def LinearSVM(X_train, y_train, X_test, y_test, parameters):\n",
    "    clf=LinearSVC(loss=\"hinge\",C=parameters[0])\n",
    "    clf.fit(X_train, y_train)\n",
    "    accuracy = clf.score(X_test, y_test)\n",
    "    return accuracy"
   ]
  },
  {
   "cell_type": "code",
   "execution_count": 264,
   "metadata": {
    "collapsed": true
   },
   "outputs": [],
   "source": [
    "def RandomForest(X_train, y_train, X_test, y_test, parameters):\n",
    "    clf = RandomForestClassifier(n_estimators=parameters[0],n_jobs=-1)\n",
    "    clf.fit(X_train, y_train)\n",
    "    accuracy = clf.score(X_test, y_test)\n",
    "    return accuracy"
   ]
  },
  {
   "cell_type": "code",
   "execution_count": 267,
   "metadata": {
    "collapsed": false
   },
   "outputs": [
    {
     "data": {
      "text/plain": [
       "(0.62333081380700428, [100])"
      ]
     },
     "execution_count": 267,
     "metadata": {},
     "output_type": "execute_result"
    }
   ],
   "source": [
    "SearchGrid(X_train, y_train, 10, 'RF', {'n_estimators':[10,50,100]})"
   ]
  },
  {
   "cell_type": "code",
   "execution_count": 243,
   "metadata": {
    "collapsed": true
   },
   "outputs": [],
   "source": [
    "from sklearn.metrics import roc_curve, auc\n",
    "def make_roc(name, clf, ytest, xtest, ax=None, labe=5, proba=True, skip=0):\n",
    "    initial=False\n",
    "    if not ax:\n",
    "        ax=plt.gca()\n",
    "        initial=True\n",
    "    if proba:#for stuff like logistic regression\n",
    "        fpr, tpr, thresholds=roc_curve(ytest, clf.predict_proba(xtest)[:,1])\n",
    "    else:#for stuff like SVM\n",
    "        fpr, tpr, thresholds=roc_curve(ytest, clf.decision_function(xtest))\n",
    "    roc_auc = auc(fpr, tpr)\n",
    "    if skip:\n",
    "        l=fpr.shape[0]\n",
    "        ax.plot(fpr[0:l:skip], tpr[0:l:skip], '.-', alpha=0.3, label='ROC curve for %s (area = %0.2f)' % (name, roc_auc))\n",
    "    else:\n",
    "        ax.plot(fpr, tpr, '.-', alpha=0.3, label='ROC curve for %s (area = %0.2f)' % (name, roc_auc))\n",
    "    label_kwargs = {}\n",
    "    label_kwargs['bbox'] = dict(\n",
    "        boxstyle='round,pad=0.3', alpha=0.2,\n",
    "    )\n",
    "    if labe!=None:\n",
    "        for k in xrange(0, fpr.shape[0],labe):\n",
    "            threshold = str(np.round(thresholds[k], 2))\n",
    "            ax.annotate(threshold, (fpr[k], tpr[k]), **label_kwargs)\n",
    "    if initial:\n",
    "        ax.plot([0, 1], [0, 1], 'k--')\n",
    "        ax.set_xlim([0.0, 1.0])\n",
    "        ax.set_ylim([0.0, 1.05])\n",
    "        ax.set_xlabel('False Positive Rate')\n",
    "        ax.set_ylabel('True Positive Rate')\n",
    "        ax.set_title('ROC')\n",
    "    ax.legend(loc=\"lower right\")\n",
    "    return ax"
   ]
  },
  {
   "cell_type": "code",
   "execution_count": 256,
   "metadata": {
    "collapsed": false
   },
   "outputs": [
    {
     "data": {
      "image/png": "[encoded data removed]",
      "text/plain": [
       "<matplotlib.figure.Figure at 0x21025d68>"
      ]
     },
     "metadata": {},
     "output_type": "display_data"
    }
   ],
   "source": [
    "with sns.hls_palette(8, l=.3, s=.8):\n",
    "    ax=make_roc(\"LinearSVM\",Linear1, y_test, X_test, labe=100, skip=10,proba=False)"
   ]
  },
  {
   "cell_type": "code",
   "execution_count": 153,
   "metadata": {
    "collapsed": false
   },
   "outputs": [],
   "source": [
    "def performKNNClass(X_train, y_train, X_test, y_test):\n",
    "    \"\"\"\n",
    "    KNN binary Classification\n",
    "    \"\"\"\n",
    "    clf = neighbors.KNeighborsClassifier()\n",
    "    clf.fit(X_train, y_train)\n",
    "    accuracy = clf.score(X_test, y_test)\n",
    "    #auc = roc_auc_score(y_test, clf.predict(X_test))\n",
    "    return accuracy\n",
    "    \n",
    "def performAdaBoostClass(X_train, y_train, X_test, y_test, parameters):\n",
    "    \"\"\"\n",
    "    Ada Boosting binary Classification\n",
    "    \"\"\"\n",
    "    n = parameters[0]\n",
    "    l =  parameters[1]\n",
    "    clf = AdaBoostClassifier(n_estimators = n, learning_rate = l)\n",
    "    clf.fit(X_train, y_train)\n",
    "    accuracy = clf.score(X_test, y_test)\n",
    "    #auc = roc_auc_score(y_test, clf.predict(X_test))\n",
    "    return accuracy\n",
    "    \n",
    "def performGTBClass(X_train, y_train, X_test, y_test):\n",
    "    \"\"\"\n",
    "    Gradient Tree Boosting binary Classification\n",
    "    \"\"\"\n",
    "    clf = GradientBoostingClassifier(n_estimators=100)\n",
    "    clf.fit(X_train, y_train)\n",
    "    accuracy = clf.score(X_test, y_test)\n",
    "    #auc = roc_auc_score(y_test, clf.predict(X_test))\n",
    "    return accuracy\n",
    "\n",
    "def performQDAClass(X_train, y_train, X_test, y_test):\n",
    "    \"\"\"\n",
    "    Gradient Tree Boosting binary Classification\n",
    "    \"\"\"\n",
    "    clf = QDA()\n",
    "    clf.fit(X_train, y_train)\n",
    "    accuracy = clf.score(X_test, y_test)\n",
    "    #auc = roc_auc_score(y_test, clf.predict(X_test))\n",
    "    return accuracy\n"
   ]
  }
 ],
 "metadata": {
  "kernelspec": {
   "display_name": "Python 2",
   "language": "python",
   "name": "python2"
  },
  "language_info": {
   "codemirror_mode": {
    "name": "ipython",
    "version": 2
   },
   "file_extension": ".py",
   "mimetype": "text/x-python",
   "name": "python",
   "nbconvert_exporter": "python",
   "pygments_lexer": "ipython2",
   "version": "2.7.10"
  }
 },
 "nbformat": 4,
 "nbformat_minor": 0
}
